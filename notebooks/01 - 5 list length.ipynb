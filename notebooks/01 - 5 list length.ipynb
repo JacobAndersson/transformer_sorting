{
 "cells": [
  {
   "cell_type": "code",
   "execution_count": 1,
   "id": "09e0d69d",
   "metadata": {
    "scrolled": true
   },
   "outputs": [
    {
     "name": "stderr",
     "output_type": "stream",
     "text": [
      "/home/jacob/.local/lib/python3.9/site-packages/tqdm/auto.py:22: TqdmWarning: IProgress not found. Please update jupyter and ipywidgets. See https://ipywidgets.readthedocs.io/en/stable/user_install.html\n",
      "  from .autonotebook import tqdm as notebook_tqdm\n"
     ]
    }
   ],
   "source": [
    "import circuitsvis as cv\n",
    "from transformer_lens import HookedTransformer, HookedTransformerConfig, FactoredMatrix, ActivationCache\n",
    "import pickle as pkl\n",
    "import torch"
   ]
  },
  {
   "cell_type": "code",
   "execution_count": 2,
   "id": "c855221e",
   "metadata": {},
   "outputs": [],
   "source": [
    "from dataclasses import dataclass\n",
    "@dataclass\n",
    "class TrainConfig:\n",
    "    list_length: int = 5\n",
    "    num_samples: int = 10000\n",
    "    batch_size: int = 100\n",
    "    min_value: int = 0\n",
    "    max_value: int = 64\n",
    "    bos_token: int = 65\n",
    "    mid_token: int = 66\n",
    "    test_seed: int = 62\n",
    "    train_seed: int = 42\n",
    "    var_length: bool = False"
   ]
  },
  {
   "cell_type": "code",
   "execution_count": 3,
   "id": "044596cc",
   "metadata": {},
   "outputs": [],
   "source": [
    "def load_model(pth):\n",
    "    with open(pth, 'rb') as f:\n",
    "        obj = pkl.load(f)\n",
    "        cfg = obj['cfg']\n",
    "        train_cfg = obj['train_cfg']\n",
    "        model = HookedTransformer(cfg)\n",
    "\n",
    "    model.load_state_dict(obj['model'])\n",
    "    return model, cfg, train_cfg"
   ]
  },
  {
   "cell_type": "code",
   "execution_count": 4,
   "id": "bd81dd5f",
   "metadata": {},
   "outputs": [],
   "source": [
    "model, cfg, train_cfg =load_model('../model-5.pkl')"
   ]
  },
  {
   "cell_type": "code",
   "execution_count": 5,
   "id": "07e86699",
   "metadata": {},
   "outputs": [],
   "source": [
    "def generate_batches():\n",
    "    train_cfg\n",
    "    random_list = torch.randint(train_cfg.min_value, train_cfg.max_value, (1, train_cfg.list_length)).tolist()\n",
    "    lists = []\n",
    "    for entry in random_list:\n",
    "        entry = [train_cfg.bos_token] + entry + [train_cfg.mid_token] + sorted(entry)\n",
    "        lists.append(entry)\n",
    "    batches = torch.tensor(lists)\n",
    "    return batches\n",
    "    batches = torch.split(batches, 1)\n",
    "    return batches"
   ]
  },
  {
   "cell_type": "code",
   "execution_count": 6,
   "id": "45b504d3",
   "metadata": {},
   "outputs": [],
   "source": [
    "def id2token(x):\n",
    "    if x==train_cfg.bos_token:\n",
    "        return \"|BOS|\"\n",
    "    elif x== train_cfg.mid_token:\n",
    "        return \"|MID|\"\n",
    "    else:\n",
    "        return str(x)\n",
    "    "
   ]
  },
  {
   "cell_type": "code",
   "execution_count": 7,
   "id": "9394b832",
   "metadata": {},
   "outputs": [],
   "source": [
    "def visualize_attn(exp_input):\n",
    "    # exp_input -> shape (1, 12)\n",
    "    logits, cache_model = model.run_with_cache(exp_input, remove_batch_dim=True) \n",
    "    #preds = logits[:, LIST_LENGTH+1 : -1].argmax(-1)\n",
    "\n",
    "    # Get attention pattern and plot it\n",
    "    attention_pattern = cache_model[\"pattern\", 0, \"attn\"]\n",
    "    tokens_input = list(map(id2token, exp_input.tolist()[0]))\n",
    "    \n",
    "    viz = cv.attention.attention_patterns(tokens=tokens_input, attention=attention_pattern)\n",
    "    return viz, attention_pattern"
   ]
  },
  {
   "cell_type": "code",
   "execution_count": 8,
   "id": "c3c24e54",
   "metadata": {},
   "outputs": [],
   "source": [
    "def accuracy(batch):\n",
    "    list_length = int(batch.shape[1] /2 - 1)\n",
    "    unsorted = batch[:, 1:list_length+1].tolist()\n",
    "    predicted = batch[:, list_length+2:].tolist()\n",
    "    \n",
    "    tot_correct = 0\n",
    "    tot_el = 0\n",
    "    for (un, pred) in zip(unsorted, predicted):\n",
    "        tot_correct += sum([x == y for x,y in zip(pred, sorted(un))])\n",
    "        tot_el += len(un)\n",
    "        \n",
    "    return tot_correct/tot_el"
   ]
  },
  {
   "cell_type": "markdown",
   "id": "0da19abf",
   "metadata": {},
   "source": [
    "# Analysis\n",
    "Number tokens (tokens not MID or BOS) attend mainly to the smallest token larger than itself. Exception is the last token where the pattern is not as clear. This is probably because the prediction of that token did not contribute the training loss (for a cleaner pattern one could probably at a EOS token). We can also see that the two tokens that should follow the predicted token has a high attention score "
   ]
  },
  {
   "cell_type": "code",
   "execution_count": 9,
   "id": "151e533f",
   "metadata": {},
   "outputs": [],
   "source": [
    "batch = generate_batches()"
   ]
  },
  {
   "cell_type": "code",
   "execution_count": 10,
   "id": "9bc6e415",
   "metadata": {},
   "outputs": [],
   "source": [
    "viz, attn = visualize_attn(batch)"
   ]
  },
  {
   "cell_type": "code",
   "execution_count": 11,
   "id": "39a8e64d",
   "metadata": {},
   "outputs": [
    {
     "data": {
      "text/html": [
       "<div id=\"circuits-vis-29cdbdb0-99c0\" style=\"margin: 15px 0;\"/>\n",
       "    <script crossorigin type=\"module\">\n",
       "    import { render, AttentionPatterns } from \"https://unpkg.com/circuitsvis@1.39.1/dist/cdn/esm.js\";\n",
       "    render(\n",
       "      \"circuits-vis-29cdbdb0-99c0\",\n",
       "      AttentionPatterns,\n",
       "      {\"tokens\": [\"|BOS|\", \"38\", \"7\", \"61\", \"17\", \"38\", \"|MID|\", \"7\", \"17\", \"38\", \"38\", \"61\"], \"attention\": [[[1.0, 0.0, 0.0, 0.0, 0.0, 0.0, 0.0, 0.0, 0.0, 0.0, 0.0, 0.0], [0.9044365882873535, 0.09556332975625992, 0.0, 0.0, 0.0, 0.0, 0.0, 0.0, 0.0, 0.0, 0.0, 0.0], [0.1021576076745987, 0.5966900587081909, 0.30115237832069397, 0.0, 0.0, 0.0, 0.0, 0.0, 0.0, 0.0, 0.0, 0.0], [0.005976488813757896, 0.007388278376311064, 0.002965498948469758, 0.9836697578430176, 0.0, 0.0, 0.0, 0.0, 0.0, 0.0, 0.0, 0.0], [0.483335018157959, 0.24493880569934845, 0.026973949745297432, 0.1631866842508316, 0.08156558871269226, 0.0, 0.0, 0.0, 0.0, 0.0, 0.0, 0.0], [0.6353636980056763, 0.0837138295173645, 0.0037332603242248297, 0.1806805580854416, 0.012896783649921417, 0.08361181616783142, 0.0, 0.0, 0.0, 0.0, 0.0, 0.0], [8.919116112338088e-07, 3.713678233907558e-05, 0.9634166955947876, 3.7176644696046424e-07, 0.036507535725831985, 3.618515620473772e-05, 1.0990386272169417e-06, 0.0, 0.0, 0.0, 0.0, 0.0], [0.0007066501420922577, 0.17762191593647003, 0.18146952986717224, 0.02198656089603901, 0.43849071860313416, 0.1775130033493042, 0.00011151129729114473, 0.002100178971886635, 0.0, 0.0, 0.0, 0.0], [0.005451148375868797, 0.3248428404331207, 0.05214450880885124, 0.10319425165653229, 0.1837942898273468, 0.32544416189193726, 0.00038280588341876864, 0.0009911650558933616, 0.003754884237423539, 0.0, 0.0, 0.0], [0.010801780968904495, 0.2554294466972351, 0.007776458747684956, 0.4214032292366028, 0.03912102058529854, 0.2577493190765381, 0.001245135790668428, 0.000263947673374787, 0.0007947810809127986, 0.005414891522377729, 0.0, 0.0], [2.996887360495748e-06, 0.00011243559856666252, 8.525084638222324e-08, 0.9997636675834656, 8.457979561171669e-07, 0.0001139277228503488, 5.459468411572743e-06, 4.374470563561772e-09, 8.139530827122599e-09, 2.3025522466468828e-07, 3.483885961941269e-07, 0.0], [0.0010370253585278988, 0.0033358167856931686, 0.0035520659293979406, 0.43497341871261597, 0.001347697339951992, 0.003356761299073696, 0.011439024470746517, 0.003464099019765854, 0.0012035712134093046, 0.001401887508109212, 0.0006905058398842812, 0.5341981649398804]]]}\n",
       "    )\n",
       "    </script>"
      ],
      "text/plain": [
       "<circuitsvis.utils.render.RenderedHTML at 0x7f79209c9a60>"
      ]
     },
     "execution_count": 11,
     "metadata": {},
     "output_type": "execute_result"
    }
   ],
   "source": [
    "viz"
   ]
  },
  {
   "cell_type": "code",
   "execution_count": 12,
   "id": "c0a5dfc5",
   "metadata": {},
   "outputs": [
    {
     "name": "stderr",
     "output_type": "stream",
     "text": [
      "100%|███████████████████████████████████████████████████████████████████████████████████████████████████████████████████████████████████████████████████████████████████████████████████████████████████████████████████████████████████████████████████████| 5/5 [00:00<00:00, 488.91it/s]\n"
     ]
    }
   ],
   "source": [
    "custom_list  = [6, 2, 59, 50, 20]\n",
    "\n",
    "custom_input = torch.tensor([[train_cfg.bos_token, *custom_list, train_cfg.mid_token]])\n",
    "custom_input_pred  = model.generate(custom_input,\n",
    "                                  max_new_tokens=train_cfg.list_length,\n",
    "                                  stop_at_eos=False\n",
    "                                  ).clone()"
   ]
  },
  {
   "cell_type": "code",
   "execution_count": 13,
   "id": "0d6c1de7",
   "metadata": {},
   "outputs": [],
   "source": [
    "v,a = visualize_attn(custom_input_pred)"
   ]
  },
  {
   "cell_type": "code",
   "execution_count": 14,
   "id": "3ab077d0",
   "metadata": {},
   "outputs": [
    {
     "data": {
      "text/html": [
       "<div id=\"circuits-vis-ec5d91dd-770b\" style=\"margin: 15px 0;\"/>\n",
       "    <script crossorigin type=\"module\">\n",
       "    import { render, AttentionPatterns } from \"https://unpkg.com/circuitsvis@1.39.1/dist/cdn/esm.js\";\n",
       "    render(\n",
       "      \"circuits-vis-ec5d91dd-770b\",\n",
       "      AttentionPatterns,\n",
       "      {\"tokens\": [\"|BOS|\", \"6\", \"2\", \"59\", \"50\", \"20\", \"|MID|\", \"2\", \"6\", \"20\", \"50\", \"59\"], \"attention\": [[[1.0, 0.0, 0.0, 0.0, 0.0, 0.0, 0.0, 0.0, 0.0, 0.0, 0.0, 0.0], [0.5198431015014648, 0.48015692830085754, 0.0, 0.0, 0.0, 0.0, 0.0, 0.0, 0.0, 0.0, 0.0, 0.0], [0.05438241362571716, 0.669858455657959, 0.27575910091400146, 0.0, 0.0, 0.0, 0.0, 0.0, 0.0, 0.0, 0.0, 0.0], [0.003930137027055025, 0.004751753993332386, 0.0026623611338436604, 0.9886558055877686, 0.0, 0.0, 0.0, 0.0, 0.0, 0.0, 0.0, 0.0], [0.004056955222040415, 0.010991943068802357, 0.0024307130370289087, 0.8037856221199036, 0.17873480916023254, 0.0, 0.0, 0.0, 0.0, 0.0, 0.0, 0.0], [0.6362155079841614, 0.011131289415061474, 0.01016192976385355, 0.1105811819434166, 0.15420588850975037, 0.0777042880654335, 0.0, 0.0, 0.0, 0.0, 0.0, 0.0], [8.553431740665474e-08, 0.15429486334323883, 0.8441130518913269, 5.0757595460027005e-08, 6.631959195146919e-07, 0.001591215142980218, 1.0539779538021321e-07, 0.0, 0.0, 0.0, 0.0, 0.0], [0.0004487806581892073, 0.4807412028312683, 0.1682230830192566, 0.027906788513064384, 0.051031727343797684, 0.2691027820110321, 6.472948734881356e-05, 0.002480917377397418, 0.0, 0.0, 0.0, 0.0], [0.0009405325981788337, 0.17411868274211884, 0.15034453570842743, 0.09909692406654358, 0.14615942537784576, 0.42430219054222107, 0.00012132629490224645, 0.001420548534952104, 0.0034957807511091232, 0.0, 0.0, 0.0], [0.009588979184627533, 0.018292194232344627, 0.009332629851996899, 0.23457792401313782, 0.47245538234710693, 0.2501046657562256, 0.0004827466618735343, 0.0001609524479135871, 0.00018905442266259342, 0.004815421998500824, 0.0, 0.0], [1.4243290102911033e-08, 1.3280113364544377e-07, 6.14002360066479e-09, 0.9928582906723022, 0.007105951197445393, 1.9004036175829242e-06, 3.573094176090308e-08, 1.8225271986027636e-11, 1.653251424649227e-10, 7.49235229413614e-10, 3.36963203153573e-05, 0.0], [0.0007289652130566537, 0.006246484816074371, 0.004143546801060438, 0.4280376732349396, 0.1361353099346161, 0.005481882020831108, 0.008086778223514557, 0.0017440041992813349, 0.0025951757561415434, 0.0012600473128259182, 0.034405700862407684, 0.3711344599723816]]]}\n",
       "    )\n",
       "    </script>"
      ],
      "text/plain": [
       "<circuitsvis.utils.render.RenderedHTML at 0x7f7920767ee0>"
      ]
     },
     "execution_count": 14,
     "metadata": {},
     "output_type": "execute_result"
    }
   ],
   "source": [
    "v"
   ]
  },
  {
   "cell_type": "markdown",
   "id": "8567487a",
   "metadata": {},
   "source": [
    "## MID token injections in list\n",
    "\n",
    "When a MID token is injected into the the unsorted list the model is still able to sort the list correctly. However since one number token is missing the largest token is copied to the end of the list.\n",
    "Model copies largest token list, does not predict any MID tokens"
   ]
  },
  {
   "cell_type": "code",
   "execution_count": 20,
   "id": "81c75ce0",
   "metadata": {},
   "outputs": [],
   "source": [
    "mid_injections = custom_input.clone()\n",
    "mid_injections[0, 4] = 66"
   ]
  },
  {
   "cell_type": "code",
   "execution_count": 21,
   "id": "01afbade",
   "metadata": {},
   "outputs": [
    {
     "name": "stderr",
     "output_type": "stream",
     "text": [
      "100%|███████████████████████████████████████████████████████████████████████████████████████████████████████████████████████████████████████████████████████████████████████████████████████████████████████████████████████████████████████████████████████| 5/5 [00:00<00:00, 534.10it/s]\n"
     ]
    }
   ],
   "source": [
    "injection_pred  = model.generate(mid_injections,\n",
    "                                  max_new_tokens=train_cfg.list_length,\n",
    "                                  stop_at_eos=False\n",
    "                                  ).clone()"
   ]
  },
  {
   "cell_type": "code",
   "execution_count": 22,
   "id": "5c578f9c",
   "metadata": {},
   "outputs": [],
   "source": [
    "v,a = visualize_attn(injection_pred)"
   ]
  },
  {
   "cell_type": "code",
   "execution_count": 23,
   "id": "36e8ddae",
   "metadata": {},
   "outputs": [
    {
     "data": {
      "text/html": [
       "<div id=\"circuits-vis-dc35934f-6080\" style=\"margin: 15px 0;\"/>\n",
       "    <script crossorigin type=\"module\">\n",
       "    import { render, AttentionPatterns } from \"https://unpkg.com/circuitsvis@1.39.1/dist/cdn/esm.js\";\n",
       "    render(\n",
       "      \"circuits-vis-dc35934f-6080\",\n",
       "      AttentionPatterns,\n",
       "      {\"tokens\": [\"|BOS|\", \"6\", \"2\", \"59\", \"|MID|\", \"20\", \"|MID|\", \"2\", \"6\", \"20\", \"59\", \"59\"], \"attention\": [[[1.0, 0.0, 0.0, 0.0, 0.0, 0.0, 0.0, 0.0, 0.0, 0.0, 0.0, 0.0], [0.5198431015014648, 0.48015692830085754, 0.0, 0.0, 0.0, 0.0, 0.0, 0.0, 0.0, 0.0, 0.0, 0.0], [0.05438241362571716, 0.669858455657959, 0.27575910091400146, 0.0, 0.0, 0.0, 0.0, 0.0, 0.0, 0.0, 0.0, 0.0], [0.003930137027055025, 0.004751753993332386, 0.0026623611338436604, 0.9886558055877686, 0.0, 0.0, 0.0, 0.0, 0.0, 0.0, 0.0, 0.0], [0.000967050320468843, 0.3463870584964752, 0.6468227505683899, 0.0006752309272997081, 0.005147869233042002, 0.0, 0.0, 0.0, 0.0, 0.0, 0.0, 0.0], [0.6575377583503723, 0.011504346504807472, 0.010502499528229237, 0.11428723484277725, 0.12585969269275665, 0.08030849695205688, 0.0, 0.0, 0.0, 0.0, 0.0, 0.0], [8.55337702887482e-08, 0.15429386496543884, 0.8441076278686523, 5.0757268610368556e-08, 7.0290957410179544e-06, 0.0015912048984318972, 1.0539712036461424e-07, 0.0, 0.0, 0.0, 0.0, 0.0], [0.0004688008630182594, 0.5021871328353882, 0.17572754621505737, 0.029151715338230133, 0.008698084391653538, 0.28110748529434204, 6.761708209523931e-05, 0.002591591328382492, 0.0, 0.0, 0.0, 0.0], [0.001079479930922389, 0.1998416930437088, 0.1725553274154663, 0.11373677104711533, 0.02001938410103321, 0.4869854748249054, 0.0001392501435475424, 0.0016304099699482322, 0.004012221470475197, 0.0, 0.0, 0.0], [0.01724233664572239, 0.032891951501369476, 0.016781382262706757, 0.421804279088974, 0.051400233060121536, 0.4497235417366028, 0.0008680465398356318, 0.00028941535856574774, 0.0003399465058464557, 0.008658809587359428, 0.0, 0.0], [1.1540619127003993e-08, 4.9786653022465543e-08, 6.05167205236512e-09, 0.9961473941802979, 2.493781948942342e-06, 4.057444868976745e-07, 3.4270982496309443e-07, 9.561661878931815e-11, 2.8429786302908155e-10, 4.341942916319397e-10, 0.0038492903113365173, 0.0], [0.0007671981584280729, 0.006574102211743593, 0.0043608685955405235, 0.45048749446868896, 0.010791134089231491, 0.005769397132098675, 0.00851091556251049, 0.001835474162362516, 0.002731288317590952, 0.0013261345447972417, 0.11624620109796524, 0.3905998170375824]]]}\n",
       "    )\n",
       "    </script>"
      ],
      "text/plain": [
       "<circuitsvis.utils.render.RenderedHTML at 0x7f7920539ac0>"
      ]
     },
     "execution_count": 23,
     "metadata": {},
     "output_type": "execute_result"
    }
   ],
   "source": [
    "v"
   ]
  },
  {
   "cell_type": "markdown",
   "id": "1b560b23",
   "metadata": {},
   "source": [
    "## MID token removal\n",
    "\n",
    "Even with the token removed the model is able to sort the list suggesting that the MID token it self is not the importatnt part but rather the model has learned that after index 6 the sorted list should begin an proceeds to output that. The attention pattern is similiar for the MID token position with or without the acctual MID token "
   ]
  },
  {
   "cell_type": "code",
   "execution_count": 24,
   "id": "259b502f",
   "metadata": {},
   "outputs": [],
   "source": [
    "mid_removal = custom_input.clone()\n",
    "mid_removal[0, 6] = 27"
   ]
  },
  {
   "cell_type": "code",
   "execution_count": 25,
   "id": "f4d3612b",
   "metadata": {},
   "outputs": [
    {
     "data": {
      "text/plain": [
       "tensor([[65,  6,  2, 59, 50, 20, 27]])"
      ]
     },
     "execution_count": 25,
     "metadata": {},
     "output_type": "execute_result"
    }
   ],
   "source": [
    "mid_removal"
   ]
  },
  {
   "cell_type": "code",
   "execution_count": 26,
   "id": "49ace37f",
   "metadata": {},
   "outputs": [
    {
     "name": "stderr",
     "output_type": "stream",
     "text": [
      "100%|███████████████████████████████████████████████████████████████████████████████████████████████████████████████████████████████████████████████████████████████████████████████████████████████████████████████████████████████████████████████████████| 5/5 [00:00<00:00, 591.56it/s]\n"
     ]
    }
   ],
   "source": [
    "removal_pred  = model.generate(mid_removal,\n",
    "                                  max_new_tokens=train_cfg.list_length,\n",
    "                                  stop_at_eos=False\n",
    "                                  ).clone()"
   ]
  },
  {
   "cell_type": "code",
   "execution_count": 27,
   "id": "c336e6b6",
   "metadata": {},
   "outputs": [],
   "source": [
    "v,a = visualize_attn(removal_pred)"
   ]
  },
  {
   "cell_type": "code",
   "execution_count": 28,
   "id": "100f0f31",
   "metadata": {},
   "outputs": [
    {
     "data": {
      "text/html": [
       "<div id=\"circuits-vis-4714d30e-3a0f\" style=\"margin: 15px 0;\"/>\n",
       "    <script crossorigin type=\"module\">\n",
       "    import { render, AttentionPatterns } from \"https://unpkg.com/circuitsvis@1.39.1/dist/cdn/esm.js\";\n",
       "    render(\n",
       "      \"circuits-vis-4714d30e-3a0f\",\n",
       "      AttentionPatterns,\n",
       "      {\"tokens\": [\"|BOS|\", \"6\", \"2\", \"59\", \"50\", \"20\", \"27\", \"2\", \"6\", \"20\", \"50\", \"59\"], \"attention\": [[[1.0, 0.0, 0.0, 0.0, 0.0, 0.0, 0.0, 0.0, 0.0, 0.0, 0.0, 0.0], [0.5198431015014648, 0.48015692830085754, 0.0, 0.0, 0.0, 0.0, 0.0, 0.0, 0.0, 0.0, 0.0, 0.0], [0.05438241362571716, 0.669858455657959, 0.27575910091400146, 0.0, 0.0, 0.0, 0.0, 0.0, 0.0, 0.0, 0.0, 0.0], [0.003930137027055025, 0.004751753993332386, 0.0026623611338436604, 0.9886558055877686, 0.0, 0.0, 0.0, 0.0, 0.0, 0.0, 0.0, 0.0], [0.004056955222040415, 0.010991943068802357, 0.0024307130370289087, 0.8037856221199036, 0.17873480916023254, 0.0, 0.0, 0.0, 0.0, 0.0, 0.0, 0.0], [0.6362155079841614, 0.011131289415061474, 0.01016192976385355, 0.1105811819434166, 0.15420588850975037, 0.0777042880654335, 0.0, 0.0, 0.0, 0.0, 0.0, 0.0], [0.0024495956022292376, 0.4081599712371826, 0.5251222848892212, 0.0012774739880114794, 0.005545137450098991, 0.05394761636853218, 0.0034979376941919327, 0.0, 0.0, 0.0, 0.0, 0.0], [0.00044812384294345975, 0.4800375998020172, 0.16797687113285065, 0.027865944430232048, 0.05095703899860382, 0.2687089145183563, 0.0015282187378033996, 0.0024772861506789923, 0.0, 0.0, 0.0, 0.0], [0.0009382676798850298, 0.17369939386844635, 0.1499824970960617, 0.0988582894206047, 0.14580745995044708, 0.42328041791915894, 0.00252911658026278, 0.0014171277871355414, 0.003487362526357174, 0.0, 0.0, 0.0], [0.009449864737689495, 0.018026815727353096, 0.0091972341760993, 0.23117472231388092, 0.4656011164188385, 0.2464762181043625, 0.014983504079282284, 0.00015861738938838243, 0.00018631167768035084, 0.00474556116387248, 0.0, 0.0], [1.4243288326554193e-08, 1.3280111943458905e-07, 6.1400227124863704e-09, 0.9928581714630127, 0.007105950266122818, 1.9004033902092488e-06, 1.2830015805320727e-07, 1.822527025130416e-11, 1.6532512858713488e-10, 7.492351183913115e-10, 3.369631667737849e-05, 0.0], [0.0007332179811783135, 0.0062829265370965, 0.0041677202098071575, 0.43053483963012695, 0.13692951202392578, 0.005513863172382116, 0.002299923449754715, 0.0017541786655783653, 0.0026103160344064236, 0.00126739835832268, 0.03460642322897911, 0.37329965829849243]]]}\n",
       "    )\n",
       "    </script>"
      ],
      "text/plain": [
       "<circuitsvis.utils.render.RenderedHTML at 0x7f791584beb0>"
      ]
     },
     "execution_count": 28,
     "metadata": {},
     "output_type": "execute_result"
    }
   ],
   "source": [
    "v"
   ]
  },
  {
   "cell_type": "markdown",
   "id": "be667b97",
   "metadata": {},
   "source": [
    "## Testing a shorter list\n",
    "When provided with a shorter list than trained on the model copies the smallest numbers up to the token position where the MID token would normally be (index 7). It the sorts the list as if the copied tokens where apart of it. Since the <MID> token is in the middle of where normally we would see an \"normal\" token it also copies the largest token to the end of the list (similiar to what happen when we injected MID tokens in the list). It is hard to get a clean picture with only a list length of 5."
   ]
  },
  {
   "cell_type": "code",
   "execution_count": 39,
   "id": "d29655b3",
   "metadata": {},
   "outputs": [],
   "source": [
    "shorter_list = [6, 2, 59]\n",
    "\n",
    "shorter_input = torch.tensor([[train_cfg.bos_token, *shorter_list, train_cfg.mid_token]])"
   ]
  },
  {
   "cell_type": "code",
   "execution_count": 48,
   "id": "cf60ad33",
   "metadata": {},
   "outputs": [
    {
     "name": "stderr",
     "output_type": "stream",
     "text": [
      "100%|███████████████████████████████████████████████████████████████████████████████████████████████████████████████████████████████████████████████████████████████████████████████████████████████████████████████████████████████████████████████████████| 7/7 [00:00<00:00, 484.81it/s]\n"
     ]
    }
   ],
   "source": [
    "shorter_pred  = model.generate(shorter_input,\n",
    "                                  max_new_tokens=7,\n",
    "                                  stop_at_eos=False\n",
    "                                  ).clone()"
   ]
  },
  {
   "cell_type": "code",
   "execution_count": 49,
   "id": "3d45b4ef",
   "metadata": {},
   "outputs": [
    {
     "data": {
      "text/plain": [
       "torch.Size([1, 12])"
      ]
     },
     "execution_count": 49,
     "metadata": {},
     "output_type": "execute_result"
    }
   ],
   "source": [
    "shorter_pred.shape"
   ]
  },
  {
   "cell_type": "code",
   "execution_count": 50,
   "id": "fe259afc",
   "metadata": {},
   "outputs": [],
   "source": [
    "v,a = visualize_attn(shorter_pred)"
   ]
  },
  {
   "cell_type": "code",
   "execution_count": 51,
   "id": "7211026a",
   "metadata": {},
   "outputs": [
    {
     "data": {
      "text/html": [
       "<div id=\"circuits-vis-a928431e-1115\" style=\"margin: 15px 0;\"/>\n",
       "    <script crossorigin type=\"module\">\n",
       "    import { render, AttentionPatterns } from \"https://unpkg.com/circuitsvis@1.39.1/dist/cdn/esm.js\";\n",
       "    render(\n",
       "      \"circuits-vis-a928431e-1115\",\n",
       "      AttentionPatterns,\n",
       "      {\"tokens\": [\"|BOS|\", \"6\", \"2\", \"59\", \"|MID|\", \"2\", \"6\", \"2\", \"2\", \"6\", \"59\", \"59\"], \"attention\": [[[1.0, 0.0, 0.0, 0.0, 0.0, 0.0, 0.0, 0.0, 0.0, 0.0, 0.0, 0.0], [0.5198431015014648, 0.48015692830085754, 0.0, 0.0, 0.0, 0.0, 0.0, 0.0, 0.0, 0.0, 0.0, 0.0], [0.05438241362571716, 0.669858455657959, 0.27575910091400146, 0.0, 0.0, 0.0, 0.0, 0.0, 0.0, 0.0, 0.0, 0.0], [0.003930137027055025, 0.004751753993332386, 0.0026623611338436604, 0.9886558055877686, 0.0, 0.0, 0.0, 0.0, 0.0, 0.0, 0.0, 0.0], [0.000967050320468843, 0.3463870584964752, 0.6468227505683899, 0.0006752309272997081, 0.005147869233042002, 0.0, 0.0, 0.0, 0.0, 0.0, 0.0, 0.0], [0.052185703068971634, 0.35963553190231323, 0.14314131438732147, 0.20008864998817444, 0.09991711378097534, 0.1450316309928894, 0.0, 0.0, 0.0, 0.0, 0.0, 0.0], [1.9295961465104483e-05, 0.11338654160499573, 0.4357309937477112, 3.138816828140989e-05, 0.0004051776777487248, 0.4464627504348755, 0.003963836934417486, 0.0, 0.0, 0.0, 0.0, 0.0], [0.0005213749245740473, 0.5585053563117981, 0.19543465971946716, 0.03242095932364464, 0.009673538617789745, 0.19616883993148804, 0.004393057897686958, 0.002882227534428239, 0.0, 0.0, 0.0, 0.0], [0.0005065521108917892, 0.572064220905304, 0.14933353662490845, 0.10755220800638199, 0.012836826965212822, 0.1511783003807068, 0.002430060412734747, 0.0010310548823326826, 0.0030672471038997173, 0.0, 0.0, 0.0], [0.0016584967961534858, 0.2042813003063202, 0.15030322968959808, 0.4441344439983368, 0.03619164600968361, 0.15332509577274323, 0.0011989118065685034, 0.0010288500925526023, 0.001855114591307938, 0.006022971589118242, 0.0, 0.0], [1.154062889696661e-08, 4.978669565502969e-08, 6.0516769373464285e-09, 0.9961482286453247, 2.493783995305421e-06, 6.306374089604105e-09, 6.557816512042791e-09, 9.5616702056045e-11, 3.5315243784861394e-11, 5.432779573433244e-11, 0.0038492935709655285, 0.0], [0.0007714583189226687, 0.006610607262700796, 0.004385083913803101, 0.45298901200294495, 0.010851055383682251, 0.0044129230082035065, 0.005123244132846594, 0.001845666323788464, 0.0018186025554314256, 0.0015318567166104913, 0.11689170449972153, 0.3927687704563141]]]}\n",
       "    )\n",
       "    </script>"
      ],
      "text/plain": [
       "<circuitsvis.utils.render.RenderedHTML at 0x7f79205819a0>"
      ]
     },
     "execution_count": 51,
     "metadata": {},
     "output_type": "execute_result"
    }
   ],
   "source": [
    "v"
   ]
  },
  {
   "cell_type": "markdown",
   "id": "e3de3e34",
   "metadata": {},
   "source": [
    "# BOS token injection\n",
    "Similiar results to the mid token injections where model is still able to sort list but largest token is copied to the end.\n",
    "\n",
    "Interesting is the attention pattern of the BOS token which is alot smoother and is not really attenting to any token in perticular which is to be expected since it is always in the begging of the sequence in training."
   ]
  },
  {
   "cell_type": "code",
   "execution_count": 80,
   "id": "49e04c28",
   "metadata": {},
   "outputs": [],
   "source": [
    "bos_injection = custom_input.clone()\n",
    "bos_injection[0, 5] = train_cfg.bos_token"
   ]
  },
  {
   "cell_type": "code",
   "execution_count": 81,
   "id": "0b12deee",
   "metadata": {},
   "outputs": [
    {
     "data": {
      "text/plain": [
       "tensor([[65,  6,  2, 59, 50, 65, 66]])"
      ]
     },
     "execution_count": 81,
     "metadata": {},
     "output_type": "execute_result"
    }
   ],
   "source": [
    "bos_injection"
   ]
  },
  {
   "cell_type": "code",
   "execution_count": 82,
   "id": "d48fc008",
   "metadata": {},
   "outputs": [
    {
     "name": "stderr",
     "output_type": "stream",
     "text": [
      "100%|███████████████████████████████████████████████████████████████████████████████████████████████████████████████████████████████████████████████████████████████████████████████████████████████████████████████████████████████████████████████████████| 5/5 [00:00<00:00, 605.36it/s]\n"
     ]
    }
   ],
   "source": [
    "bos_pred  = model.generate(bos_injection,\n",
    "                                  max_new_tokens=5,\n",
    "                                  stop_at_eos=False\n",
    "                                  ).clone()"
   ]
  },
  {
   "cell_type": "code",
   "execution_count": 83,
   "id": "b6667f3d",
   "metadata": {},
   "outputs": [],
   "source": [
    "v,a = visualize_attn(bos_pred)"
   ]
  },
  {
   "cell_type": "code",
   "execution_count": 84,
   "id": "515cfcf6",
   "metadata": {},
   "outputs": [
    {
     "data": {
      "text/html": [
       "<div id=\"circuits-vis-4d815364-5fc5\" style=\"margin: 15px 0;\"/>\n",
       "    <script crossorigin type=\"module\">\n",
       "    import { render, AttentionPatterns } from \"https://unpkg.com/circuitsvis@1.39.1/dist/cdn/esm.js\";\n",
       "    render(\n",
       "      \"circuits-vis-4d815364-5fc5\",\n",
       "      AttentionPatterns,\n",
       "      {\"tokens\": [\"|BOS|\", \"6\", \"2\", \"59\", \"50\", \"|BOS|\", \"|MID|\", \"2\", \"6\", \"50\", \"59\", \"59\"], \"attention\": [[[1.0, 0.0, 0.0, 0.0, 0.0, 0.0, 0.0, 0.0, 0.0, 0.0, 0.0, 0.0], [0.5198431015014648, 0.48015692830085754, 0.0, 0.0, 0.0, 0.0, 0.0, 0.0, 0.0, 0.0, 0.0, 0.0], [0.05438241362571716, 0.669858455657959, 0.27575910091400146, 0.0, 0.0, 0.0, 0.0, 0.0, 0.0, 0.0, 0.0, 0.0], [0.003930137027055025, 0.004751753993332386, 0.0026623611338436604, 0.9886558055877686, 0.0, 0.0, 0.0, 0.0, 0.0, 0.0, 0.0, 0.0], [0.004056955222040415, 0.010991943068802357, 0.0024307130370289087, 0.8037856221199036, 0.17873480916023254, 0.0, 0.0, 0.0, 0.0, 0.0, 0.0, 0.0], [0.08892835676670074, 0.15879100561141968, 0.11554763466119766, 0.15454742312431335, 0.3129853904247284, 0.16920021176338196, 0.0, 0.0, 0.0, 0.0, 0.0, 0.0], [8.567046450025373e-08, 0.15454046428203583, 0.845456600189209, 5.083838772179661e-08, 6.64251558646356e-07, 2.0212419258314185e-06, 1.0556556162555353e-07, 0.0, 0.0, 0.0, 0.0, 0.0], [0.0006030545337125659, 0.6460018754005432, 0.22605182230472565, 0.037500087171792984, 0.06857451051473618, 0.017847919836640358, 8.698103920323774e-05, 0.003333762753754854, 0.0, 0.0, 0.0, 0.0], [0.0015401123091578484, 0.2851174771785736, 0.24618756771087646, 0.16227015852928162, 0.23933447897434235, 0.057301122695207596, 0.00019867064838763326, 0.0023261322639882565, 0.005724301561713219, 0.0, 0.0, 0.0], [2.558245432737749e-05, 0.007317016366869211, 0.0009076144779101014, 0.7091526985168457, 0.2783201038837433, 0.0031199639197438955, 4.060858827870106e-06, 1.7820326547735021e-06, 1.965838237083517e-05, 0.0011314678704366088, 0.0, 0.0], [1.1446432246486893e-08, 4.938032560630745e-08, 6.002281782713226e-09, 0.9880174398422241, 0.008153853937983513, 1.0913631740550045e-06, 3.399128445380484e-07, 9.483625690309694e-11, 2.8197760792991744e-10, 9.283116924052592e-06, 0.0038178747054189444, 0.0], [0.0006596452440135181, 0.005652483552694321, 0.0037495216820389032, 0.38733401894569397, 0.12318969517946243, 0.003327964572235942, 0.007317777257412672, 0.0015781604452058673, 0.00234839110635221, 0.029050715267658234, 0.09994973987340927, 0.33584192395210266]]]}\n",
       "    )\n",
       "    </script>"
      ],
      "text/plain": [
       "<circuitsvis.utils.render.RenderedHTML at 0x7f7858b8c5e0>"
      ]
     },
     "execution_count": 84,
     "metadata": {},
     "output_type": "execute_result"
    }
   ],
   "source": [
    "v"
   ]
  },
  {
   "cell_type": "markdown",
   "id": "d7734e9e",
   "metadata": {},
   "source": [
    "## BOS removal\n",
    "No effect on the models ability to sort the list and overall the attention pattern looks similar to when it is present (that is only a few tokens acctually atten to it)."
   ]
  },
  {
   "cell_type": "code",
   "execution_count": 85,
   "id": "71ef79cf",
   "metadata": {},
   "outputs": [
    {
     "name": "stderr",
     "output_type": "stream",
     "text": [
      "100%|███████████████████████████████████████████████████████████████████████████████████████████████████████████████████████████████████████████████████████████████████████████████████████████████████████████████████████████████████████████████████████| 5/5 [00:00<00:00, 569.83it/s]\n"
     ]
    }
   ],
   "source": [
    "bos_removal = custom_input.clone()\n",
    "bos_removal[0, 0] = 12\n",
    "bos_removal_pred  = model.generate(bos_removal,\n",
    "                                  max_new_tokens=5,\n",
    "                                  stop_at_eos=False\n",
    "                                  ).clone()"
   ]
  },
  {
   "cell_type": "code",
   "execution_count": 86,
   "id": "ce139290",
   "metadata": {},
   "outputs": [
    {
     "data": {
      "text/html": [
       "<div id=\"circuits-vis-17e305db-6ef9\" style=\"margin: 15px 0;\"/>\n",
       "    <script crossorigin type=\"module\">\n",
       "    import { render, AttentionPatterns } from \"https://unpkg.com/circuitsvis@1.39.1/dist/cdn/esm.js\";\n",
       "    render(\n",
       "      \"circuits-vis-17e305db-6ef9\",\n",
       "      AttentionPatterns,\n",
       "      {\"tokens\": [\"12\", \"6\", \"2\", \"59\", \"50\", \"20\", \"|MID|\", \"2\", \"6\", \"20\", \"50\", \"59\"], \"attention\": [[[1.0, 0.0, 0.0, 0.0, 0.0, 0.0, 0.0, 0.0, 0.0, 0.0, 0.0, 0.0], [0.6088305115699768, 0.3911695182323456, 0.0, 0.0, 0.0, 0.0, 0.0, 0.0, 0.0, 0.0, 0.0, 0.0], [0.15694400668144226, 0.5972056984901428, 0.2458503097295761, 0.0, 0.0, 0.0, 0.0, 0.0, 0.0, 0.0, 0.0, 0.0], [0.002156460890546441, 0.00476021459326148, 0.002667101798579097, 0.9904161691665649, 0.0, 0.0, 0.0, 0.0, 0.0, 0.0, 0.0, 0.0], [0.001972379395738244, 0.011014949530363083, 0.0024358006194233894, 0.805467963218689, 0.1791089028120041, 0.0, 0.0, 0.0, 0.0, 0.0, 0.0, 0.0], [0.2023540735244751, 0.024406831711530685, 0.022281378507614136, 0.24246390163898468, 0.3381168246269226, 0.1703769862651825, 0.0, 0.0, 0.0, 0.0, 0.0, 0.0], [0.0007321806042455137, 0.15418189764022827, 0.8434950709342957, 5.072043407494675e-08, 6.627104198742018e-07, 0.0015900501748546958, 1.0532063043910966e-07, 0.0, 0.0, 0.0, 0.0, 0.0], [0.012585720978677273, 0.47490382194519043, 0.16618044674396515, 0.02756793051958084, 0.05041207745671272, 0.2658351957798004, 6.394351657945663e-05, 0.0024507928173989058, 0.0, 0.0, 0.0, 0.0], [0.01361055951565504, 0.17191053926944733, 0.14843788743019104, 0.09784018993377686, 0.14430585503578186, 0.41892123222351074, 0.00011978764814557508, 0.0014025333803147078, 0.0034514477010816336, 0.0, 0.0, 0.0], [0.009300658479332924, 0.01829751953482628, 0.009335346519947052, 0.23464621603488922, 0.47259294986724854, 0.2501775026321411, 0.0004828872042708099, 0.00016099930508062243, 0.00018910947255790234, 0.004816824104636908, 0.0, 0.0], [1.5939828346134277e-09, 1.3280113364544377e-07, 6.14002360066479e-09, 0.9928582906723022, 0.007105951197445393, 1.9004036175829242e-06, 3.573094176090308e-08, 1.8225271986027636e-11, 1.653251424649227e-10, 7.49235229413614e-10, 3.36963203153573e-05, 0.0], [0.0011383547680452466, 0.006243925075978041, 0.004141849000006914, 0.427862286567688, 0.13607951998710632, 0.0054796356707811356, 0.008083464577794075, 0.0017432895256206393, 0.002594112418591976, 0.001259530894458294, 0.034391600638628006, 0.3709823787212372]]]}\n",
       "    )\n",
       "    </script>"
      ],
      "text/plain": [
       "<circuitsvis.utils.render.RenderedHTML at 0x7f7858b8b8b0>"
      ]
     },
     "execution_count": 86,
     "metadata": {},
     "output_type": "execute_result"
    }
   ],
   "source": [
    "v,a = visualize_attn(bos_removal_pred)\n",
    "v"
   ]
  },
  {
   "cell_type": "markdown",
   "id": "d2ee9bba",
   "metadata": {},
   "source": [
    "## Toy only BOS token"
   ]
  },
  {
   "cell_type": "code",
   "execution_count": 90,
   "id": "c1943a21",
   "metadata": {},
   "outputs": [
    {
     "name": "stderr",
     "output_type": "stream",
     "text": [
      "100%|█████████████████████████████████████████████████████████████████████████████████████████████████████████████████████████████████████████████████████████████████████████████████████████████████████████████████████████████████████████████████████| 11/11 [00:00<00:00, 433.19it/s]\n"
     ]
    }
   ],
   "source": [
    "toy_input  = torch.tensor([[train_cfg.bos_token]])\n",
    "toy_pred  = model.generate(toy_input,\n",
    "                                  max_new_tokens=train_cfg.list_length*2+1,\n",
    "                                  stop_at_eos=False\n",
    "                                  ).clone()"
   ]
  },
  {
   "cell_type": "markdown",
   "id": "282ed095",
   "metadata": {},
   "source": [
    "Seems to really like the number 38"
   ]
  },
  {
   "cell_type": "code",
   "execution_count": 93,
   "id": "bf3f7df0",
   "metadata": {},
   "outputs": [
    {
     "data": {
      "text/plain": [
       "tensor([[65, 38, 38, 38, 38, 38, 38, 38, 38, 38, 38, 38]], device='cuda:0')"
      ]
     },
     "execution_count": 93,
     "metadata": {},
     "output_type": "execute_result"
    }
   ],
   "source": [
    "toy_pred"
   ]
  },
  {
   "cell_type": "code",
   "execution_count": 94,
   "id": "e3c7c12c",
   "metadata": {},
   "outputs": [],
   "source": [
    "v, a = visualize_attn(toy_pred)"
   ]
  },
  {
   "cell_type": "code",
   "execution_count": 95,
   "id": "54aa48b2",
   "metadata": {},
   "outputs": [
    {
     "data": {
      "text/html": [
       "<div id=\"circuits-vis-cd6f3eee-1d35\" style=\"margin: 15px 0;\"/>\n",
       "    <script crossorigin type=\"module\">\n",
       "    import { render, AttentionPatterns } from \"https://unpkg.com/circuitsvis@1.39.1/dist/cdn/esm.js\";\n",
       "    render(\n",
       "      \"circuits-vis-cd6f3eee-1d35\",\n",
       "      AttentionPatterns,\n",
       "      {\"tokens\": [\"|BOS|\", \"38\", \"38\", \"38\", \"38\", \"38\", \"38\", \"38\", \"38\", \"38\", \"38\", \"38\"], \"attention\": [[[1.0, 0.0, 0.0, 0.0, 0.0, 0.0, 0.0, 0.0, 0.0, 0.0, 0.0, 0.0], [0.9044365882873535, 0.09556332975625992, 0.0, 0.0, 0.0, 0.0, 0.0, 0.0, 0.0, 0.0, 0.0, 0.0], [0.7516372203826904, 0.12264782190322876, 0.12571494281291962, 0.0, 0.0, 0.0, 0.0, 0.0, 0.0, 0.0, 0.0, 0.0], [0.7182630896568298, 0.09319347888231277, 0.0957438200712204, 0.09279961884021759, 0.0, 0.0, 0.0, 0.0, 0.0, 0.0, 0.0, 0.0], [0.6524071097373962, 0.08634958416223526, 0.08872965723276138, 0.08636002987623215, 0.08615367859601974, 0.0, 0.0, 0.0, 0.0, 0.0, 0.0, 0.0], [0.6014875173568726, 0.07925038784742355, 0.08145802468061447, 0.07919349521398544, 0.07945676147937775, 0.07915381342172623, 0.0, 0.0, 0.0, 0.0, 0.0, 0.0], [0.11358344554901123, 0.1659090667963028, 0.16905821859836578, 0.1655285656452179, 0.1687123328447342, 0.16485081613063812, 0.0523575022816658, 0.0, 0.0, 0.0, 0.0, 0.0], [0.0262420903891325, 0.18427400290966034, 0.19126592576503754, 0.18560470640659332, 0.18845471739768982, 0.1841222643852234, 0.02089550532400608, 0.01914079673588276, 0.0, 0.0, 0.0, 0.0], [0.012172083370387554, 0.1894446760416031, 0.19684067368507385, 0.19059735536575317, 0.1925470381975174, 0.19111184775829315, 0.011601235717535019, 0.009222215041518211, 0.006462815683335066, 0.0, 0.0, 0.0], [0.008062529377639294, 0.1906544417142868, 0.1981712281703949, 0.1926666647195816, 0.19326382875442505, 0.19238601624965668, 0.0101008927449584, 0.00672630500048399, 0.0039263395592570305, 0.00404171459376812, 0.0, 0.0], [0.004897455684840679, 0.18374010920524597, 0.18592052161693573, 0.1811450868844986, 0.18219423294067383, 0.18617850542068481, 0.06368497759103775, 0.009540119208395481, 0.0017533464124426246, 0.00037627870915457606, 0.0005693297716788948, 0.0], [0.2193889617919922, 0.07406832277774811, 0.07672763615846634, 0.0740077793598175, 0.07529732584953308, 0.07419920712709427, 0.1510506272315979, 0.10488083958625793, 0.051424071192741394, 0.03221111744642258, 0.015532922931015491, 0.05121125653386116]]]}\n",
       "    )\n",
       "    </script>"
      ],
      "text/plain": [
       "<circuitsvis.utils.render.RenderedHTML at 0x7f78591e1f10>"
      ]
     },
     "execution_count": 95,
     "metadata": {},
     "output_type": "execute_result"
    }
   ],
   "source": [
    "v"
   ]
  },
  {
   "cell_type": "markdown",
   "id": "f02aea4f",
   "metadata": {},
   "source": [
    "## Questions:  \n",
    "    - Does appending EOS tokens in training make the model behave differently to MID token injections  \n",
    "    - EOS tokens effect on shorting shorter lists? better generalization?  "
   ]
  }
 ],
 "metadata": {
  "kernelspec": {
   "display_name": "Python 3 (ipykernel)",
   "language": "python",
   "name": "python3"
  },
  "language_info": {
   "codemirror_mode": {
    "name": "ipython",
    "version": 3
   },
   "file_extension": ".py",
   "mimetype": "text/x-python",
   "name": "python",
   "nbconvert_exporter": "python",
   "pygments_lexer": "ipython3",
   "version": "3.9.5"
  }
 },
 "nbformat": 4,
 "nbformat_minor": 5
}
